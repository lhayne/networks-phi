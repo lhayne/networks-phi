{
 "cells": [
  {
   "cell_type": "code",
   "execution_count": 1,
   "metadata": {},
   "outputs": [],
   "source": [
    "import numpy as np"
   ]
  },
  {
   "cell_type": "code",
   "execution_count": 2,
   "metadata": {},
   "outputs": [],
   "source": [
    "class phi:\n",
    "    def __init__(self,tpm,states=None):\n",
    "        self.tpm = tpm # tpm will be size 2^n X 2^n\n",
    "        self.num_nodes = int(np.log2(self.tpm.shape[0]))\n",
    "        if (states is None):\n",
    "            self.states = np.zeros((self.num_nodes))\n",
    "        else:\n",
    "            self.states = states\n",
    "        \n",
    "        self.nodes = np.arange(self.num_nodes)\n",
    "    \n",
    "    def state_to_row(self,states):\n",
    "        decimal = 0\n",
    "        for i,state in enumerate(states):\n",
    "            decimal += (2**i) * (state)\n",
    "        return decimal\n",
    "    \n",
    "    def row_to_state(self,row_number,num_states):\n",
    "        binary = bin(row_number)[2:]\n",
    "        states = []\n",
    "        for state in binary: # convert row to binary\n",
    "            states.append(int(state))\n",
    "        \n",
    "        states = np.flip(states) # flip to make little endian\n",
    "       \n",
    "        if (len(states) < num_states): \n",
    "            states = np.concatenate((states,np.zeros((num_states-len(states)),dtype=int)))\n",
    "            \n",
    "        return states\n",
    "    \n",
    "    \n",
    "    def marginalize(self,tpm,candidate_nodes,background_nodes):\n",
    "        sub_tpm_new = np.zeros((2**len(candidate_nodes),2**len(candidate_nodes)))\n",
    "        \n",
    "        # 2. Second, we marginalize over the column states, which means we sum the probabilities of columns which\n",
    "        # only differ in the state of the background node.\n",
    "        for j in range(2**len(candidate_nodes)):\n",
    "            sub_tpm_new[:,j] = sub_tpm[:,j]\n",
    "            for b_node in background_nodes:\n",
    "                sub_tpm_new[:,j] += sub_tpm[:,j+2**b_node]\n",
    "    \n",
    "    \"\"\"\n",
    "    The candidate subsystem tpm gets generated in two parts:\n",
    "    1. First, the t-1 states which contain background nodes in states that are not correct are eliminated. We say\n",
    "        we're conditioning on the states of the background elements because we only look at the part of the transition\n",
    "        probability matrix that involves the background conditions in their current state.\n",
    "    2. Second, we marginalize over the column states, which means we sum the probabilities of columns which\n",
    "        only differ in the state of the background node. \n",
    "    \"\"\"\n",
    "    def candidate_subsystem_tpm(self,candidate_nodes):\n",
    "        background_nodes = np.setdiff1d(self.nodes,candidate_nodes)\n",
    "        sub_tpm = None\n",
    "        \n",
    "        # 1. First, the t-1 states which contain background nodes in states that are not correct are eliminated\n",
    "        for i,row in enumerate(self.tpm):\n",
    "            include_row = True\n",
    "            for b_node in background_nodes:\n",
    "                # don't include a row in which a background node isn't in original state\n",
    "                if (self.row_to_state(i,self.num_nodes)[b_node] != self.states[b_node]):\n",
    "                    include_row = False\n",
    "            \n",
    "            if (include_row and sub_tpm is None):\n",
    "                sub_tpm = self.tpm[i].reshape((1,-1))\n",
    "            elif (include_row):\n",
    "                sub_tpm = np.concatenate((sub_tpm,self.tpm[i].reshape((1,-1))),axis=0)\n",
    "            \n",
    "        \n",
    "        sub_tpm_new = np.zeros((2**len(candidate_nodes),2**len(candidate_nodes)))\n",
    "        \n",
    "        # 2. Second, we marginalize over the column states, which means we sum the probabilities of columns which\n",
    "        # only differ in the state of the background node.\n",
    "        for j in range(2**len(candidate_nodes)):\n",
    "            sub_tpm_new[:,j] = sub_tpm[:,j]\n",
    "            for b_node in background_nodes:\n",
    "                sub_tpm_new[:,j] += sub_tpm[:,j+2**b_node]\n",
    "        \n",
    "        return sub_tpm_new"
   ]
  },
  {
   "cell_type": "code",
   "execution_count": 3,
   "metadata": {},
   "outputs": [],
   "source": [
    "test_tpm = np.array([[1,0,0,0,0,0,0,0,0,0,0,0,0,0,0,0],\n",
    "                    [0,0,0,0,1,0,0,0,0,0,0,0,0,0,0,0],\n",
    "                    [0,0,0,0,0,1,0,0,0,0,0,0,0,0,0,0],\n",
    "                    [0,1,0,0,0,0,0,0,0,0,0,0,0,0,0,0],\n",
    "                    [0,1,0,0,0,0,0,0,0,0,0,0,0,0,0,0],\n",
    "                    [0,0,0,0,0,0,0,1,0,0,0,0,0,0,0,0],\n",
    "                    [0,0,0,0,0,1,0,0,0,0,0,0,0,0,0,0],\n",
    "                    [0,0,0,1,0,0,0,0,0,0,0,0,0,0,0,0],\n",
    "                    [0,0,0,0,0,0,0,0,0,1,0,0,0,0,0,0],\n",
    "                    [0,0,0,0,0,0,0,0,0,0,0,0,0,1,0,0],\n",
    "                    [0,0,0,0,0,0,0,0,0,0,0,0,0,1,0,0],\n",
    "                    [0,0,0,0,0,0,0,0,0,1,0,0,0,0,0,0],\n",
    "                    [0,0,0,0,0,0,0,0,0,1,0,0,0,0,0,0],\n",
    "                    [0,0,0,0,0,0,0,0,0,0,0,0,0,0,0,1],\n",
    "                    [0,0,0,0,0,0,0,0,0,0,0,0,0,1,0,0],\n",
    "                    [0,0,0,0,0,0,0,0,0,0,0,1,0,0,0,0]], dtype=int)\n",
    "test = phi(test_tpm,[0,0,0,0])"
   ]
  },
  {
   "cell_type": "code",
   "execution_count": 4,
   "metadata": {},
   "outputs": [
    {
     "data": {
      "text/plain": [
       "4"
      ]
     },
     "execution_count": 4,
     "metadata": {},
     "output_type": "execute_result"
    }
   ],
   "source": [
    "test.num_nodes"
   ]
  },
  {
   "cell_type": "code",
   "execution_count": 13,
   "metadata": {},
   "outputs": [
    {
     "data": {
      "text/plain": [
       "array([1, 0, 1, 0])"
      ]
     },
     "execution_count": 13,
     "metadata": {},
     "output_type": "execute_result"
    }
   ],
   "source": [
    "test.row_to_state(5,4)"
   ]
  },
  {
   "cell_type": "code",
   "execution_count": 9,
   "metadata": {},
   "outputs": [
    {
     "data": {
      "text/plain": [
       "array([[1., 0., 0., 0., 0., 0., 0., 0.],\n",
       "       [0., 0., 0., 0., 1., 1., 0., 0.],\n",
       "       [1., 1., 0., 0., 0., 0., 0., 0.],\n",
       "       [0., 0., 0., 0., 1., 1., 0., 0.],\n",
       "       [0., 0., 0., 0., 0., 0., 0., 0.],\n",
       "       [0., 0., 0., 0., 0., 0., 0., 0.],\n",
       "       [0., 0., 0., 0., 0., 0., 0., 0.],\n",
       "       [0., 0., 0., 0., 0., 0., 0., 0.]])"
      ]
     },
     "execution_count": 9,
     "metadata": {},
     "output_type": "execute_result"
    }
   ],
   "source": [
    "test.candidate_subsystem_tpm([1,2,3])"
   ]
  },
  {
   "cell_type": "code",
   "execution_count": null,
   "metadata": {},
   "outputs": [],
   "source": []
  },
  {
   "cell_type": "code",
   "execution_count": null,
   "metadata": {},
   "outputs": [],
   "source": []
  }
 ],
 "metadata": {
  "kernelspec": {
   "display_name": "Python 3",
   "language": "python",
   "name": "python3"
  },
  "language_info": {
   "codemirror_mode": {
    "name": "ipython",
    "version": 3
   },
   "file_extension": ".py",
   "mimetype": "text/x-python",
   "name": "python",
   "nbconvert_exporter": "python",
   "pygments_lexer": "ipython3",
   "version": "3.7.2"
  }
 },
 "nbformat": 4,
 "nbformat_minor": 2
}
