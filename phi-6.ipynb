{
 "cells": [
  {
   "cell_type": "code",
   "execution_count": 1,
   "metadata": {
    "colab": {},
    "colab_type": "code",
    "id": "esyCj1A2SvI5"
   },
   "outputs": [
    {
     "name": "stdout",
     "output_type": "stream",
     "text": [
      "\n",
      "Welcome to PyPhi!\n",
      "\n",
      "If you use PyPhi in your research, please cite the paper:\n",
      "\n",
      "  Mayner WGP, Marshall W, Albantakis L, Findlay G, Marchman R, Tononi G.\n",
      "  (2018). PyPhi: A toolbox for integrated information theory.\n",
      "  PLOS Computational Biology 14(7): e1006343.\n",
      "  https://doi.org/10.1371/journal.pcbi.1006343\n",
      "\n",
      "Documentation is available online (or with the built-in `help()` function):\n",
      "  https://pyphi.readthedocs.io\n",
      "\n",
      "To report issues, please use the issue tracker on the GitHub repository:\n",
      "  https://github.com/wmayner/pyphi\n",
      "\n",
      "For general discussion, you are welcome to join the pyphi-users group:\n",
      "  https://groups.google.com/forum/#!forum/pyphi-users\n",
      "\n",
      "To suppress this message, either:\n",
      "  - Set `WELCOME_OFF: true` in your `pyphi_config.yml` file, or\n",
      "  - Set the environment variable PYPHI_WELCOME_OFF to any value in your shell:\n",
      "        export PYPHI_WELCOME_OFF='yes'\n",
      "\n"
     ]
    }
   ],
   "source": [
    "import numpy as np\n",
    "from itertools import chain,combinations\n",
    "from scipy import stats\n",
    "from phi_test import *\n",
    "import pyphi"
   ]
  },
  {
   "cell_type": "markdown",
   "metadata": {},
   "source": [
    "<img src=\"test_tpm.png\" style=\"width: 500px;\"/>"
   ]
  },
  {
   "cell_type": "code",
   "execution_count": 2,
   "metadata": {},
   "outputs": [],
   "source": [
    "tpm  = np.array([[1., 0., 0., 0., 0., 0., 0., 0.],\n",
    "                 [0., 0., 0., 0., 1., 0., 0., 0.],\n",
    "                 [0., 0., 0., 0., 0., 1., 0., 0.],\n",
    "                 [0., 1., 0., 0., 0., 0., 0., 0.],\n",
    "                 [0., 1., 0., 0., 0., 0., 0., 0.],\n",
    "                 [0., 0., 0., 0., 0., 0., 0., 1.],\n",
    "                 [0., 0., 0., 0., 0., 1., 0., 0.],\n",
    "                 [0., 0., 0., 1., 0., 0., 0., 0.]], dtype=int)\n",
    "state = (1,0,0)"
   ]
  },
  {
   "cell_type": "code",
   "execution_count": 3,
   "metadata": {
    "colab": {},
    "colab_type": "code",
    "id": "QdL3m-AlSvJH"
   },
   "outputs": [],
   "source": [
    "test = phi(tpm,[1,0,0])"
   ]
  },
  {
   "cell_type": "code",
   "execution_count": 4,
   "metadata": {},
   "outputs": [],
   "source": [
    "t = test.ss_to_sn(tpm)\n",
    "\n",
    "node_indices = [0]"
   ]
  },
  {
   "cell_type": "code",
   "execution_count": null,
   "metadata": {},
   "outputs": [],
   "source": []
  },
  {
   "cell_type": "code",
   "execution_count": 5,
   "metadata": {},
   "outputs": [
    {
     "data": {
      "text/plain": [
       "(2, 1, 1)"
      ]
     },
     "execution_count": 5,
     "metadata": {},
     "output_type": "execute_result"
    }
   ],
   "source": [
    "network = pyphi.Network(tpm)\n",
    "subsystem = pyphi.Subsystem(network, state, (0,1,2))\n",
    "\n",
    "subsystem.effect_repertoire((0,1,2),(0,)).shape"
   ]
  },
  {
   "cell_type": "code",
   "execution_count": 6,
   "metadata": {},
   "outputs": [
    {
     "data": {
      "text/plain": [
       "(0.25, ((), (1,), (0, 1), (2,)))"
      ]
     },
     "execution_count": 6,
     "metadata": {},
     "output_type": "execute_result"
    }
   ],
   "source": [
    "test.effect_mip((0,1),(1,2))"
   ]
  },
  {
   "cell_type": "code",
   "execution_count": 7,
   "metadata": {},
   "outputs": [
    {
     "data": {
      "text/plain": [
       "Repertoire irreducibility analysis\n",
       "  φ = 1/4\n",
       "  Mechanism: [n0, n1]\n",
       "  Purview = [n1, n2]\n",
       "  Direction: EFFECT\n",
       "  Partition:\n",
       "     ∅    n0,n1\n",
       "    ─── ✕ ─────\n",
       "    n1     n2  \n",
       "  Repertoire:\n",
       "    ┌──────────────┐\n",
       "    │ S     Pr(S)  │\n",
       "    │ ╴╴╴╴╴╴╴╴╴╴╴╴ │\n",
       "    │ 00    0      │\n",
       "    │ 10    0      │\n",
       "    │ 01    1/2    │\n",
       "    │ 11    1/2    │\n",
       "    └──────────────┘\n",
       "  Partitioned repertoire:\n",
       "    ┌──────────────┐\n",
       "    │ S     Pr(S)  │\n",
       "    │ ╴╴╴╴╴╴╴╴╴╴╴╴ │\n",
       "    │ 00    0      │\n",
       "    │ 10    0      │\n",
       "    │ 01    3/4    │\n",
       "    │ 11    1/4    │\n",
       "    └──────────────┘"
      ]
     },
     "execution_count": 7,
     "metadata": {},
     "output_type": "execute_result"
    }
   ],
   "source": [
    "subsystem.effect_mip((0,1),(1,2))"
   ]
  },
  {
   "cell_type": "code",
   "execution_count": 8,
   "metadata": {},
   "outputs": [
    {
     "data": {
      "text/plain": [
       "(0.499998999999, ((0,), (), (1, 2), (0, 1, 2)))"
      ]
     },
     "execution_count": 8,
     "metadata": {},
     "output_type": "execute_result"
    }
   ],
   "source": [
    "test.cause_mip((0,1,2),(0,1,2))"
   ]
  },
  {
   "cell_type": "code",
   "execution_count": 9,
   "metadata": {},
   "outputs": [
    {
     "data": {
      "text/plain": [
       "Repertoire irreducibility analysis\n",
       "  φ = 1/2\n",
       "  Mechanism: [n0, n1, n2]\n",
       "  Purview = [n0, n1, n2]\n",
       "  Direction: CAUSE\n",
       "  Partition:\n",
       "    n0     n1,n2  \n",
       "    ─── ✕ ────────\n",
       "     ∅    n0,n1,n2\n",
       "  Repertoire:\n",
       "    ┌───────────────┐\n",
       "    │  S     Pr(S)  │\n",
       "    │ ╴╴╴╴╴╴╴╴╴╴╴╴╴ │\n",
       "    │ 000    0      │\n",
       "    │ 100    0      │\n",
       "    │ 010    0      │\n",
       "    │ 110    1/2    │\n",
       "    │ 001    1/2    │\n",
       "    │ 101    0      │\n",
       "    │ 011    0      │\n",
       "    │ 111    0      │\n",
       "    └───────────────┘\n",
       "  Partitioned repertoire:\n",
       "    ┌───────────────┐\n",
       "    │  S     Pr(S)  │\n",
       "    │ ╴╴╴╴╴╴╴╴╴╴╴╴╴ │\n",
       "    │ 000    1/3    │\n",
       "    │ 100    0      │\n",
       "    │ 010    0      │\n",
       "    │ 110    1/3    │\n",
       "    │ 001    1/3    │\n",
       "    │ 101    0      │\n",
       "    │ 011    0      │\n",
       "    │ 111    0      │\n",
       "    └───────────────┘"
      ]
     },
     "execution_count": 9,
     "metadata": {},
     "output_type": "execute_result"
    }
   ],
   "source": [
    "subsystem.cause_mip((0,1,2),(0,1,2))"
   ]
  },
  {
   "cell_type": "code",
   "execution_count": 13,
   "metadata": {},
   "outputs": [
    {
     "data": {
      "text/plain": [
       "(0.499998999999, (0, 1, 2), (0, 2))"
      ]
     },
     "execution_count": 13,
     "metadata": {},
     "output_type": "execute_result"
    }
   ],
   "source": [
    "test.concept((0,1,2))"
   ]
  },
  {
   "cell_type": "code",
   "execution_count": 14,
   "metadata": {},
   "outputs": [
    {
     "data": {
      "text/plain": [
       "━━━━━━━━━━━━━━━━━━━━━━━━━━━━━━━━━━━━━━━━━━━━━━━━━━━━━━━━\n",
       "       Concept: Mechanism = [n0, n1, n2], φ = 1/2       \n",
       "━━━━━━━━━━━━━━━━━━━━━━━━━━━━━━━━━━━━━━━━━━━━━━━━━━━━━━━━\n",
       "            MIC                         MIE             \n",
       "┌──────────────────────────┐┌──────────────────────────┐\n",
       "│  φ = 1/2                 ││  φ = 1/2                 │\n",
       "│  Purview = [n0, n1, n2]  ││  Purview = [n0, n2]      │\n",
       "│  MIP:                    ││  MIP:                    │\n",
       "│    n0     n1,n2          ││     ∅    n0,n1,n2        │\n",
       "│    ─── ✕ ────────        ││    ─── ✕ ────────        │\n",
       "│     ∅    n0,n1,n2        ││    n2       n0           │\n",
       "│  Repertoire:             ││  Repertoire:             │\n",
       "│    ┌───────────────┐     ││    ┌──────────────┐      │\n",
       "│    │  S     Pr(S)  │     ││    │ S     Pr(S)  │      │\n",
       "│    │ ╴╴╴╴╴╴╴╴╴╴╴╴╴ │     ││    │ ╴╴╴╴╴╴╴╴╴╴╴╴ │      │\n",
       "│    │ 000    0      │     ││    │ 00    0      │      │\n",
       "│    │ 100    0      │     ││    │ 10    0      │      │\n",
       "│    │ 010    0      │     ││    │ 01    1      │      │\n",
       "│    │ 110    1/2    │     ││    │ 11    0      │      │\n",
       "│    │ 001    1/2    │     ││    └──────────────┘      │\n",
       "│    │ 101    0      │     ││  Partitioned repertoire: │\n",
       "│    │ 011    0      │     ││    ┌──────────────┐      │\n",
       "│    │ 111    0      │     ││    │ S     Pr(S)  │      │\n",
       "│    └───────────────┘     ││    │ ╴╴╴╴╴╴╴╴╴╴╴╴ │      │\n",
       "│  Partitioned repertoire: ││    │ 00    1/2    │      │\n",
       "│    ┌───────────────┐     ││    │ 10    0      │      │\n",
       "│    │  S     Pr(S)  │     ││    │ 01    1/2    │      │\n",
       "│    │ ╴╴╴╴╴╴╴╴╴╴╴╴╴ │     ││    │ 11    0      │      │\n",
       "│    │ 000    1/3    │     ││    └──────────────┘      │\n",
       "│    │ 100    0      │     │└──────────────────────────┘\n",
       "│    │ 010    0      │     │                            \n",
       "│    │ 110    1/3    │     │                            \n",
       "│    │ 001    1/3    │     │                            \n",
       "│    │ 101    0      │     │                            \n",
       "│    │ 011    0      │     │                            \n",
       "│    │ 111    0      │     │                            \n",
       "│    └───────────────┘     │                            \n",
       "└──────────────────────────┘                            "
      ]
     },
     "execution_count": 14,
     "metadata": {},
     "output_type": "execute_result"
    }
   ],
   "source": [
    "subsystem.concept((0,1,2))"
   ]
  },
  {
   "cell_type": "code",
   "execution_count": 19,
   "metadata": {},
   "outputs": [
    {
     "name": "stderr",
     "output_type": "stream",
     "text": [
      ".........\n",
      "----------------------------------------------------------------------\n",
      "Ran 9 tests in 0.716s\n",
      "\n",
      "OK\n"
     ]
    }
   ],
   "source": [
    "import unittest\n",
    "\n",
    "class TestPhi(unittest.TestCase):\n",
    "    \n",
    "    def setUp(self):\n",
    "        self.tpm  = np.array([[1., 0., 0., 0., 0., 0., 0., 0.],\n",
    "                   [0., 0., 0., 0., 1., 0., 0., 0.],\n",
    "                   [0., 0., 0., 0., 0., 1., 0., 0.],\n",
    "                   [0., 1., 0., 0., 0., 0., 0., 0.],\n",
    "                   [0., 1., 0., 0., 0., 0., 0., 0.],\n",
    "                   [0., 0., 0., 0., 0., 0., 0., 1.],\n",
    "                   [0., 0., 0., 0., 0., 1., 0., 0.],\n",
    "                   [0., 0., 0., 1., 0., 0., 0., 0.]], dtype=int)\n",
    "        \n",
    "        self.state = (1,0,0)\n",
    "        \n",
    "        self.test = phi(tpm,[1,0,0])\n",
    "        \n",
    "        network = pyphi.Network(self.tpm)\n",
    "        self.subsystem = pyphi.Subsystem(network, self.state, (0,1,2))\n",
    "        \n",
    "        self.sn_tpm = self.test.ss_to_sn(self.tpm)\n",
    "\n",
    "    def test_effect(self):\n",
    "        for p in self.test.powerset_all([0,1,2]):\n",
    "            for m in self.test.powerset_all([0,1,2]):\n",
    "                if (len(m) > 0 and len(p) > 0):\n",
    "                    ours = self.test.effect_repertoire(m,p)\n",
    "                    theirs = self.subsystem.effect_repertoire(m,p)\n",
    "                    \n",
    "                    self.assertTrue(np.alltrue(ours == theirs))\n",
    "                    \n",
    "    def test_cause(self):\n",
    "        for p in self.test.powerset_all([0,1,2]):\n",
    "            for m in self.test.powerset_all([0,1,2]):\n",
    "                if (len(m) > 0 and len(p) > 0):\n",
    "                    ours = self.test.cause_repertoire(m,p)\n",
    "                    theirs = self.subsystem.cause_repertoire(m,p)\n",
    "                    \n",
    "                    self.assertTrue(np.alltrue(ours == theirs))\n",
    "                    \n",
    "    def test_ss_to_sn(self):\n",
    "        self.assertTrue(np.alltrue(self.sn_tpm==pyphi.convert.state_by_state2state_by_node(self.tpm)))\n",
    "\n",
    "      \n",
    "    # test marginalize function\n",
    "    def test_marginalize_out(self):\n",
    "        node_indices = [0]\n",
    "        self.assertTrue(np.alltrue(self.test.marginalize_out(self.sn_tpm,node_indices) \n",
    "                                   == pyphi.tpm.marginalize_out(node_indices,self.sn_tpm)))\n",
    "    \n",
    "    # test single purview node repertoire function    \n",
    "    def test_effect_rep_single(self):\n",
    "        for i in range(3):\n",
    "            self.assertTrue(np.alltrue(self.test.effect_repertoire_single((0,1,2),(i,)) \n",
    "                            == self.subsystem._single_node_effect_repertoire(frozenset((0,1,2)),i)))\n",
    "            \n",
    "    def test_cause_rep_single(self):\n",
    "        for i in range(3):\n",
    "            self.assertTrue(np.alltrue(self.test.cause_repertoire_single((i,),(0,1,2)) \n",
    "                       == subsystem._single_node_cause_repertoire(i,frozenset((0,1,2)))))\n",
    "            \n",
    "    def test_effect_mip(self):\n",
    "        for p in self.test.powerset_all([0,1,2]):\n",
    "            for m in self.test.powerset_all([0,1,2]):\n",
    "                if (len(m) > 0 and len(p) > 0):\n",
    "                    if not ((self.test.effect_mip(m,p)[1][0]== \n",
    "                                    self.subsystem.effect_mip(m,p).partition[0][0]) or\n",
    "                                    (self.test.effect_mip(m,p)[1][0]== \n",
    "                                    self.subsystem.effect_mip(m,p).partition[1][0])):\n",
    "                        print (self.test.effect_mip(m,p)[1])\n",
    "                        print (self.subsystem.effect_mip(m,p).partition)\n",
    "                        \n",
    "    def test_cause_mip(self):\n",
    "        for p in self.test.powerset_all([0,1,2]):\n",
    "            for m in self.test.powerset_all([0,1,2]):\n",
    "                if (len(m) > 0 and len(p) > 0):\n",
    "                    if not ((self.test.cause_mip(m,p)[1][0]== \n",
    "                                    self.subsystem.cause_mip(m,p).partition[0][0]) or\n",
    "                                    (self.test.cause_mip(m,p)[1][0]== \n",
    "                                    self.subsystem.cause_mip(m,p).partition[1][0])):\n",
    "                        print (self.test.cause_mip(m,p))\n",
    "                        print (self.subsystem.cause_mip(m,p).partition)\n",
    "                        \n",
    "    def test_concept(self):\n",
    "        for m in self.test.powerset_all([0,1,2]):\n",
    "            if (len(m) > 1):\n",
    "                self.assertAlmostEqual(self.test.concept(m)[0],self.subsystem.concept(m).phi,4)\n",
    "\n",
    "if __name__ == '__main__':\n",
    "    unittest.main(argv=['first-arg-is-ignored'], exit=False)"
   ]
  },
  {
   "cell_type": "markdown",
   "metadata": {},
   "source": [
    "Notes:\n",
    "\n",
    "Effect repertoire: To calculate the effect repertoire is a little tricky in code. \n",
    "1. You must convert the state by state matrix into a state by node matrix. This is a many to one mapping, so some information can be lost if you don't ensure that the transition matrix observes the conditional independence assumption. The resulting state by node matrix is in shape (2 x 2 x 2 x ... N) x N. This allows us to index to the t+1 state using a tuple which represents the t state. ex. tpm[1,0,0] = [0,0.25,0.5] means that given the t state [1,0,0], node 0 has a 0 percent chance of being on at time t+1. node 1 has 0.25 chance of being on at t+1 and node 2 has 0.5 chance of being on at t+1.\n",
    "2. Because of the conditional independence assumption, to find the effect repertoire over a purview with multiple nodes we can just take the tensor product of the effect repertoires of each purview node individually, but first we need to find them using the following procedure:\n",
    "\n",
    "    i. From the tpm we derive a node tpm by marginalizing over non parent nodes, so the node_tpm will be of shape [2,2,1,2] where the 2's represent the parent nodes and the 1's the non parent nodes. And the last dimension is 2, the first index encode on, and the second off.\n",
    "    \n",
    "    ii. to find the effect repertoire for that single node we condition on the mechanism nodes that are also parents of the node and marginalize out non-mechanism nodes.\n",
    "    \n",
    "Cause repertoire: \n",
    "1. \n"
   ]
  },
  {
   "cell_type": "code",
   "execution_count": null,
   "metadata": {},
   "outputs": [],
   "source": []
  }
 ],
 "metadata": {
  "colab": {
   "collapsed_sections": [],
   "name": "phi-4.ipynb",
   "provenance": []
  },
  "kernelspec": {
   "display_name": "Python 3",
   "language": "python",
   "name": "python3"
  },
  "language_info": {
   "codemirror_mode": {
    "name": "ipython",
    "version": 3
   },
   "file_extension": ".py",
   "mimetype": "text/x-python",
   "name": "python",
   "nbconvert_exporter": "python",
   "pygments_lexer": "ipython3",
   "version": "3.7.4"
  }
 },
 "nbformat": 4,
 "nbformat_minor": 1
}
